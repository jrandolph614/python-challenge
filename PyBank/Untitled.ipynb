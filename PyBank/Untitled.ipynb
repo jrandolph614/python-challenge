{
 "cells": [
  {
   "cell_type": "code",
   "execution_count": 50,
   "metadata": {},
   "outputs": [],
   "source": [
    "import os \n",
    "import csv \n",
    "import numpy\n",
    "import pandas as pd"
   ]
  },
  {
   "cell_type": "code",
   "execution_count": 51,
   "metadata": {},
   "outputs": [],
   "source": [
    "csvpath = os.path.join('budget_data.csv')\n",
    "\n",
    "Date = []\n",
    "Profit_Loss = []\n",
    "Total_Months = []\n",
    "New_Date = []\n",
    "Total_Profit = []\n",
    "Average = []\n",
    "with open(csvpath, newline='') as csvfile:\n",
    "    csvreader = csv.reader(csvfile, delimiter= ',')\n",
    "\n",
    "    csvheader = next(csvfile)\n",
    "\n",
    "    for row in csvreader:\n",
    "            Date.append(row[0])\n",
    "            New_Date.append(len(row[0]))\n",
    "            Profit_Loss.append(int(row[1]))\n",
    "            \n",
    "Total_Profit = sum(Profit_Loss) \n",
    "Total_Months = len(Date)\n",
    "Average = numpy.mean(Profit_Loss)\n",
    "dataframe = pd.read_csv('budget_data.csv')"
   ]
  },
  {
   "cell_type": "code",
   "execution_count": 52,
   "metadata": {
    "scrolled": true
   },
   "outputs": [
    {
     "data": {
      "text/html": [
       "<div>\n",
       "<style scoped>\n",
       "    .dataframe tbody tr th:only-of-type {\n",
       "        vertical-align: middle;\n",
       "    }\n",
       "\n",
       "    .dataframe tbody tr th {\n",
       "        vertical-align: top;\n",
       "    }\n",
       "\n",
       "    .dataframe thead th {\n",
       "        text-align: right;\n",
       "    }\n",
       "</style>\n",
       "<table border=\"1\" class=\"dataframe\">\n",
       "  <thead>\n",
       "    <tr style=\"text-align: right;\">\n",
       "      <th></th>\n",
       "      <th>Date</th>\n",
       "      <th>Profit/Losses</th>\n",
       "    </tr>\n",
       "  </thead>\n",
       "  <tbody>\n",
       "    <tr>\n",
       "      <th>0</th>\n",
       "      <td>Jan-2010</td>\n",
       "      <td>867884</td>\n",
       "    </tr>\n",
       "    <tr>\n",
       "      <th>1</th>\n",
       "      <td>Feb-2010</td>\n",
       "      <td>984655</td>\n",
       "    </tr>\n",
       "    <tr>\n",
       "      <th>2</th>\n",
       "      <td>Mar-2010</td>\n",
       "      <td>322013</td>\n",
       "    </tr>\n",
       "    <tr>\n",
       "      <th>3</th>\n",
       "      <td>Apr-2010</td>\n",
       "      <td>-69417</td>\n",
       "    </tr>\n",
       "    <tr>\n",
       "      <th>4</th>\n",
       "      <td>May-2010</td>\n",
       "      <td>310503</td>\n",
       "    </tr>\n",
       "  </tbody>\n",
       "</table>\n",
       "</div>"
      ],
      "text/plain": [
       "       Date  Profit/Losses\n",
       "0  Jan-2010         867884\n",
       "1  Feb-2010         984655\n",
       "2  Mar-2010         322013\n",
       "3  Apr-2010         -69417\n",
       "4  May-2010         310503"
      ]
     },
     "execution_count": 52,
     "metadata": {},
     "output_type": "execute_result"
    }
   ],
   "source": [
    "dataframe.head()"
   ]
  },
  {
   "cell_type": "code",
   "execution_count": 53,
   "metadata": {},
   "outputs": [
    {
     "data": {
      "text/html": [
       "<div>\n",
       "<style scoped>\n",
       "    .dataframe tbody tr th:only-of-type {\n",
       "        vertical-align: middle;\n",
       "    }\n",
       "\n",
       "    .dataframe tbody tr th {\n",
       "        vertical-align: top;\n",
       "    }\n",
       "\n",
       "    .dataframe thead th {\n",
       "        text-align: right;\n",
       "    }\n",
       "</style>\n",
       "<table border=\"1\" class=\"dataframe\">\n",
       "  <thead>\n",
       "    <tr style=\"text-align: right;\">\n",
       "      <th></th>\n",
       "      <th>Date</th>\n",
       "      <th>Profit/Losses</th>\n",
       "    </tr>\n",
       "  </thead>\n",
       "  <tbody>\n",
       "    <tr>\n",
       "      <th>0</th>\n",
       "      <td>Jan-2010</td>\n",
       "      <td>$867,884.00</td>\n",
       "    </tr>\n",
       "    <tr>\n",
       "      <th>1</th>\n",
       "      <td>Feb-2010</td>\n",
       "      <td>$984,655.00</td>\n",
       "    </tr>\n",
       "    <tr>\n",
       "      <th>2</th>\n",
       "      <td>Mar-2010</td>\n",
       "      <td>$322,013.00</td>\n",
       "    </tr>\n",
       "    <tr>\n",
       "      <th>3</th>\n",
       "      <td>Apr-2010</td>\n",
       "      <td>$-69,417.00</td>\n",
       "    </tr>\n",
       "    <tr>\n",
       "      <th>4</th>\n",
       "      <td>May-2010</td>\n",
       "      <td>$310,503.00</td>\n",
       "    </tr>\n",
       "  </tbody>\n",
       "</table>\n",
       "</div>"
      ],
      "text/plain": [
       "       Date Profit/Losses\n",
       "0  Jan-2010   $867,884.00\n",
       "1  Feb-2010   $984,655.00\n",
       "2  Mar-2010   $322,013.00\n",
       "3  Apr-2010   $-69,417.00\n",
       "4  May-2010   $310,503.00"
      ]
     },
     "execution_count": 53,
     "metadata": {},
     "output_type": "execute_result"
    }
   ],
   "source": [
    "def currency(x):\n",
    "    return '${:,.2f}'.format(x)\n",
    "dataframe[\"Profit/Losses\"] = dataframe[\"Profit/Losses\"].apply(currency)\n",
    "\n",
    "dataframe.head()"
   ]
  },
  {
   "cell_type": "code",
   "execution_count": 54,
   "metadata": {},
   "outputs": [],
   "source": [
    "Total_Profit = '${:,.2f}'.format(Total_Profit)\n"
   ]
  },
  {
   "cell_type": "code",
   "execution_count": 55,
   "metadata": {},
   "outputs": [],
   "source": [
    "Average = '${:,.2f}'.format(Average)"
   ]
  },
  {
   "cell_type": "code",
   "execution_count": 56,
   "metadata": {},
   "outputs": [],
   "source": [
    "data_max = dataframe.loc[dataframe[(\"Profit/Losses\")] == '$999,942.00' , [\"Date\", \"Profit/Losses\"] ]"
   ]
  },
  {
   "cell_type": "code",
   "execution_count": 57,
   "metadata": {},
   "outputs": [],
   "source": [
    "data_min = dataframe.loc[dataframe[\"Profit/Losses\"]== '$-1,022,534.00', [\"Date\", \"Profit/Losses\"] ]"
   ]
  },
  {
   "cell_type": "code",
   "execution_count": 58,
   "metadata": {},
   "outputs": [],
   "source": [
    "Financial_Analysis = pd.DataFrame({\"Total Months\": [Total_Months], \n",
    "                                  \"Total Profit\": [Total_Profit], \n",
    "                                   \"Average Change\": [Average],\n",
    "                                   \"Greatest Increase in Profits\": [data_max],\n",
    "                                   \"Greatest Decrease in Profits\": [data_min]})"
   ]
  },
  {
   "cell_type": "code",
   "execution_count": 59,
   "metadata": {},
   "outputs": [
    {
     "name": "stdout",
     "output_type": "stream",
     "text": [
      "Financial Analysis\n",
      "--------------------------------\n",
      "Total Months:  86\n",
      "Total:  $38,382,578.00\n",
      "Average Change:  $446,309.05\n",
      "Greatest Increase in Profits:          Date Profit/Losses\n",
      "43  Aug-2013   $999,942.00\n",
      "Greatest Decrease in Profits:          Date   Profit/Losses\n",
      "31  Aug-2012  $-1,022,534.00\n"
     ]
    }
   ],
   "source": [
    "print(\"Financial Analysis\")\n",
    "print(\"--------------------------------\")\n",
    "print(\"Total Months: \", Total_Months)\n",
    "print(\"Total: \", Total_Profit)\n",
    "print(\"Average Change: \", Average)\n",
    "print(\"Greatest Increase in Profits: \",\n",
    "      data_max)\n",
    "print(\"Greatest Decrease in Profits: \", \n",
    "      data_min)"
   ]
  },
  {
   "cell_type": "code",
   "execution_count": 60,
   "metadata": {},
   "outputs": [],
   "source": [
    "file = open('Financial_Analysis.txt','w')\n",
    "file.write('Financial Analysis \\n')\n",
    "file.write('-------------------------------- \\n')\n",
    "file.write('Total Months: 86 \\n')\n",
    "file.write('Total:  $38,382,578.00 \\n')\n",
    "file.write('Average Change: $446,309.05 \\n')\n",
    "file.write('Greatest Increase in Profits: \\n')\n",
    "file.write('Date Profit/Losses \\n')\n",
    "file.write('Aug-2013   $999,942.00 \\n')\n",
    "file.write('Greatest Decrease in Profits: \\n')\n",
    "file.write('Date Profit/Losses \\n')\n",
    "file.write('Aug-2012  $-1,022,534.00 \\n')\n",
    "file.close()\n",
    "    "
   ]
  }
 ],
 "metadata": {
  "kernelspec": {
   "display_name": "Python 3",
   "language": "python",
   "name": "python3"
  },
  "language_info": {
   "codemirror_mode": {
    "name": "ipython",
    "version": 3
   },
   "file_extension": ".py",
   "mimetype": "text/x-python",
   "name": "python",
   "nbconvert_exporter": "python",
   "pygments_lexer": "ipython3",
   "version": "3.6.5"
  }
 },
 "nbformat": 4,
 "nbformat_minor": 2
}
